{
 "cells": [
  {
   "cell_type": "markdown",
   "metadata": {},
   "source": [
    "# Python Programming Challenge\n",
    "\n",
    "## Poker Hand\n",
    "\n",
    "In this challenge, we have to determine which kind of Poker combination is present in a deck of 5 cards. Every card is a string containing the card value **with the upper-case initial for face-cards** and the **lower-case initial for the suit**, as seen in the examples below:\n",
    "\n",
    "> \"Ah\" ➞ Ace of hearts <br>\n",
    "> \"Ks\" ➞ King of spades<br>\n",
    "> \"3d\" ➞ Three of diamonds<br>\n",
    "> \"Qc\" ➞ Queen of clubs <br>\n",
    "\n",
    "There are 10 different combinations. Here's the list, in descending order of importance:"
   ]
  },
  {
   "cell_type": "markdown",
   "metadata": {},
   "source": [
    "| Name            | Description                                         |\n",
    "|-----------------|-----------------------------------------------------|\n",
    "| Royal Flush     | A, K, Q, J, 10, all with the same suit.             |\n",
    "| Straight Flush  | Five cards in sequence, all with the same suit.     |\n",
    "| Four of a Kind  | Four cards of the same rank.                        |\n",
    "| Full House      | Three of a Kind with a Pair.                        |\n",
    "| Flush           | Any five cards of the same suit, not in sequence    |\n",
    "| Straight        | Five cards in a sequence, but not of the same suit. |\n",
    "| Three of a Kind | Three cards of the same rank.                       |\n",
    "| Two Pair        | Two different Pairs.                                |\n",
    "| Pair            | Two cards of the same rank.                         |\n",
    "| High Card       | No other valid combination.                         |\n",
    "\n",
    "---------"
   ]
  },
  {
   "cell_type": "markdown",
   "metadata": {},
   "source": [
    "#### 1. Given a list `hand` containing five strings being the cards. Implement a function called `poker_hand_ranking` that **returns a string with the name of the highest combination obtained.** According to the table above.\n",
    "\n",
    "**Examples:**\n",
    "\n",
    "> poker_hand_ranking([\"10h\", \"Jh\", \"Qh\", \"Ah\", \"Kh\"]) ➞ \"Royal Flush\"<br>\n",
    "> poker_hand_ranking([\"3h\", \"5h\", \"Qs\", \"9h\", \"Ad\"]) ➞ \"High Card\"<br>\n",
    "> poker_hand_ranking([\"10s\", \"10c\", \"8d\", \"10d\", \"10h\"]) ➞ \"Four of a Kind\"<br>"
   ]
  },
  {
   "cell_type": "code",
   "execution_count": 280,
   "metadata": {},
   "outputs": [],
   "source": [
    "import random"
   ]
  },
  {
   "cell_type": "code",
   "execution_count": 281,
   "metadata": {},
   "outputs": [],
   "source": [
    "def dealCards():\n",
    "    \"\"\"\n",
    "    call to be given 5 cards at random\n",
    "    \"\"\"\n",
    "    deck = [\n",
    "    \"Ah\", \"Kh\", \"Qh\", \"Jh\", \"10h\", \"9h\", \"8h\", \"7h\", \"6h\", \"5h\", \"4h\", \"3h\", \"2h\",\n",
    "    \"As\", \"Ks\", \"Qs\", \"Js\", \"10s\", \"9s\", \"8s\", \"7s\", \"6s\", \"5s\", \"4s\", \"3s\", \"2s\",\n",
    "    \"Ad\", \"Kd\", \"Qd\", \"Jd\", \"10d\", \"9d\", \"8d\", \"7d\", \"6d\", \"5d\", \"4d\", \"3d\", \"2d\",\n",
    "    \"Ac\", \"Kc\", \"Qc\", \"Jc\", \"10c\", \"9c\", \"8c\", \"7c\", \"6c\", \"5c\", \"4c\", \"3c\", \"2c\",\n",
    "    ]\n",
    "\n",
    "    hand =  random.sample(deck, 5)\n",
    "    return hand\n"
   ]
  },
  {
   "cell_type": "code",
   "execution_count": 282,
   "metadata": {},
   "outputs": [],
   "source": [
    "def evaluate_hand(hand):\n",
    "    \"\"\"\n",
    "    function to check hand for card combos\n",
    "    \"\"\"\n",
    "\n",
    "    # split ranks and suits\n",
    "    ranks = [card[:-1] for card in hand]  # Get rank part, e.g., \"A\" from \"Ah\"\n",
    "    suits = [card[-1] for card in hand]   # Get suit part, e.g., \"h\" from \"Ah\"\n",
    "    \n",
    "    #rank order for comp\n",
    "    rankOrder = {\"A\": 14, \"K\": 13, \"Q\": 12, \"J\": 11, \"10\": 10, \"9\": 9, \"8\": 8, \"7\": 7, \"6\": 6, \"5\": 5, \"4\": 4, \"3\": 3, \"2\": 2}\n",
    "    \n",
    "    # change ranks into ints\n",
    "    try:\n",
    "        rankValues = sorted([rankOrder[rank] for rank in ranks], reverse=True)\n",
    "    except KeyError:\n",
    "        # this try except is a result of me accidently putting cards ranked 1 in each suit.... which there actually isn't.... oops. left this in anyways\n",
    "        print(f\"Invalid rank found in hand: {ranks}\")\n",
    "        return None\n",
    "\n",
    "    # Ccheck for dupes\n",
    "    rankCounts = {rank: ranks.count(rank) for rank in ranks}\n",
    "    suitConuts = {suit: suits.count(suit) for suit in suits}\n",
    "\n",
    "    # check for flush\n",
    "    isFlush = len(set(suits)) == 1\n",
    "\n",
    "    # check for straight\n",
    "    isStraight = all(rankValues[i] - rankValues[i + 1] == 1 for i in range(len(rankValues) - 1))\n",
    "\n",
    "    # straight that starts with Ace\n",
    "    if set(rankValues) == {14, 5, 4, 3, 2}:\n",
    "        isStraight = True\n",
    "\n",
    "    #check for each combo in importance order\n",
    "    if isFlush and isStraight and rankValues == [14, 13, 12, 11, 10]:\n",
    "        return \"Royal Flush\"\n",
    "    elif isFlush and isStraight:\n",
    "        return \"Straight Flush\"\n",
    "    elif 4 in rankCounts.values(): \n",
    "        return \"Four of a Kind\"\n",
    "    elif 3 in rankCounts.values() and 2 in rankCounts.values(): \n",
    "        return \"Full House\"\n",
    "    elif isFlush:\n",
    "        return \"Flush\"\n",
    "    elif isStraight: \n",
    "        return \"Straight\"\n",
    "    elif 3 in rankCounts.values(): \n",
    "        return \"Three of a Kind\"\n",
    "    elif list(rankCounts.values()).count(2) == 2: \n",
    "        return \"Two Pair\"\n",
    "    elif 2 in rankCounts.values(): \n",
    "        return \"Pair\"\n",
    "    else: \n",
    "        return \"High Card\""
   ]
  },
  {
   "cell_type": "markdown",
   "metadata": {},
   "source": [
    "compare hand to combos from high importance to low\n",
    "first match returns combo name"
   ]
  },
  {
   "cell_type": "code",
   "execution_count": 283,
   "metadata": {},
   "outputs": [
    {
     "name": "stdout",
     "output_type": "stream",
     "text": [
      "['Kc', '4d', '8s', '9d', '6c']\n",
      "High Card\n"
     ]
    }
   ],
   "source": [
    "hand = dealCards()\n",
    "print(hand)\n",
    "\n",
    "print(evaluate_hand(hand))"
   ]
  },
  {
   "cell_type": "markdown",
   "metadata": {},
   "source": [
    "------------\n",
    "### **Stretch Content**\n",
    "\n",
    "#### 2.  Implement a function `winner_is` that returns the winner given a dictionary with different players and their hands. \n",
    "**Example**\n",
    "\n",
    "We define dictionary like\n",
    "```python\n",
    "round_1 = {\"John\" = [\"10h\", \"Jh\", \"Qh\", \"Ah\", \"Kh\"], \n",
    "        \"Peter\" = [\"3h\", \"5h\", \"Qs\", \"9h\", \"Ad\"]}\n",
    "```\n",
    "\n",
    "Our function returns the name of the winner:\n",
    "> winner_is(round_1) --> \"John\"\n",
    "\n",
    "One table can have up to 10 players.\n"
   ]
  },
  {
   "cell_type": "code",
   "execution_count": 284,
   "metadata": {},
   "outputs": [],
   "source": [
    "def append2dList(list, listToAdd):\n",
    "    list.append(listToAdd)\n",
    "    return list"
   ]
  },
  {
   "cell_type": "code",
   "execution_count": 285,
   "metadata": {},
   "outputs": [],
   "source": [
    "def winner_is(table):\n",
    "    # adding int rank to combo\n",
    "    comboRankOrder = {\"Royal Flush\":10, \"Straight Flush\": 9, \"Four of a Kind\":8,\"Full House\":7,\"Flush\":6,\"Straight\":5,\"Three of a Kind\":4,\"Two Pair\":3,\"Pair\":2,\"High Card\":1}\n",
    "\n",
    "    #vars\n",
    "    playersInfo = []\n",
    "    newPlayer = []\n",
    "    playersList = []\n",
    "    playerRankings = {}\n",
    "\n",
    "    count = 0\n",
    "\n",
    "\n",
    "    \n",
    "    for player in table:\n",
    "        # print(f\"player list : {playersList}\")\n",
    "        playersList.append(list(table.keys())[count])\n",
    "\n",
    "        # print(f\"{playersList[count]}'s hand scoure : {evaluate_hand(table[player][0:4])}\")\n",
    "        # print(f\"playerInfo : {playersInfo}\")\n",
    "        \n",
    "        # find rank of combo in hand\n",
    "        if evaluate_hand(table[player][0:4]) == \"Royal Flush\":\n",
    "            newPlayer = [playersList[count], comboRankOrder[\"Royal Flush\"]]\n",
    "\n",
    "        elif evaluate_hand(table[player][0:4]) == \"Straight Flush\":\n",
    "            newPlayer = [playersList[count], comboRankOrder[\"Straight Flush\"]]\n",
    "\n",
    "        elif evaluate_hand(table[player][0:4]) == \"Four of a Kind\":\n",
    "            newPlayer = [playersList[count], comboRankOrder[\"Four of a Kind\"]]\n",
    "\n",
    "        elif evaluate_hand(table[player][0:4]) == \"Full House\":\n",
    "            newPlayer = [playersList[count], comboRankOrder[\"Full House\"]]\n",
    "\n",
    "        elif evaluate_hand(table[player][0:4]) == \"Flush\":\n",
    "            newPlayer = [playersList[count], comboRankOrder[\"Flush\"]]\n",
    "\n",
    "        elif evaluate_hand(table[player][0:4]) == \"Straight\":\n",
    "            newPlayer = [playersList[count], comboRankOrder[\"Straight\"]]\n",
    "\n",
    "        elif evaluate_hand(table[player][0:4]) == \"Three of a Kind\":\n",
    "            newPlayer = [playersList[count], comboRankOrder[\"Three of a Kind\"]]\n",
    "\n",
    "        elif evaluate_hand(table[player][0:4]) == \"Two Pair\":\n",
    "            newPlayer = [playersList[count], comboRankOrder[\"Two Pair\"]]\n",
    "\n",
    "        elif evaluate_hand(table[player][0:4]) == \"Pair\":\n",
    "            newPlayer = [playersList[count], comboRankOrder[\"Pair\"]]\n",
    "\n",
    "        else:\n",
    "            newPlayer = [playersList[count], comboRankOrder[\"High Card\"]]\n",
    "\n",
    "\n",
    "        playersInfo+=newPlayer\n",
    "        count+= 1\n",
    "\n",
    "\n",
    "\n",
    "    print(f\"final scores : {playersInfo}\")\n",
    "\n",
    "    count = 0\n",
    "    for players in table:\n",
    "        playerRankings[playersInfo[count]] = playersInfo[count+1]\n",
    "        count +=2\n",
    "\n",
    "    return max(playerRankings.values())\n",
    " \n",
    "\n",
    "    \n",
    "\n",
    "\n",
    "\n"
   ]
  },
  {
   "cell_type": "code",
   "execution_count": 286,
   "metadata": {},
   "outputs": [
    {
     "name": "stdout",
     "output_type": "stream",
     "text": [
      "final scores : ['John', 2, 'Peter', 1, 'Alex', 1, 'Beka', 1, 'Tara', 2, 'Shadoa', 1, 'River', 1, 'Ozi', 1, 'name9', 2, 'name10', 1]\n"
     ]
    },
    {
     "data": {
      "text/plain": [
       "2"
      ]
     },
     "execution_count": 286,
     "metadata": {},
     "output_type": "execute_result"
    }
   ],
   "source": [
    "\n",
    "table = {\"John\" : [0,0] , \"Peter\" : [0,0], \"Alex\" : [0,0], \"Beka\" : [0,0], \"Tara\" : [0,0], \"Shadoa\" : [0,0], \"River\" : [0,0], \"Ozi\" : [0,0], \"name9\" : [0,0], \"name10\" : [0,0]}\n",
    "\n",
    "for player in table:\n",
    "    table[player] = dealCards()\n",
    "# print(table)\n",
    "\n",
    "winner_is(table)\n"
   ]
  },
  {
   "cell_type": "code",
   "execution_count": null,
   "metadata": {},
   "outputs": [],
   "source": []
  },
  {
   "cell_type": "code",
   "execution_count": null,
   "metadata": {},
   "outputs": [],
   "source": []
  },
  {
   "cell_type": "markdown",
   "metadata": {},
   "source": [
    "#### 3. Create a function `distribute_cards` that randomly generates and gives 5 cards to every player given a list of player names.\n",
    "\n",
    "**Example**\n",
    "\n",
    "> distribute_cards([\"John\",\"Peter\"])  -> round_1 = {\"John\" = [\"10h\", \"Jh\", \"Qh\", \"Ah\", \"Kh\"], \n",
    "        \"Peter\" = [\"3h\", \"5h\", \"Qs\", \"9h\", \"Ad\"]\n",
    "}"
   ]
  },
  {
   "cell_type": "code",
   "execution_count": null,
   "metadata": {},
   "outputs": [],
   "source": []
  },
  {
   "cell_type": "code",
   "execution_count": null,
   "metadata": {},
   "outputs": [],
   "source": []
  },
  {
   "cell_type": "code",
   "execution_count": null,
   "metadata": {},
   "outputs": [],
   "source": []
  },
  {
   "cell_type": "code",
   "execution_count": null,
   "metadata": {},
   "outputs": [],
   "source": []
  }
 ],
 "metadata": {
  "kernelspec": {
   "display_name": "test_env",
   "language": "python",
   "name": "test_env"
  },
  "language_info": {
   "codemirror_mode": {
    "name": "ipython",
    "version": 3
   },
   "file_extension": ".py",
   "mimetype": "text/x-python",
   "name": "python",
   "nbconvert_exporter": "python",
   "pygments_lexer": "ipython3",
   "version": "3.12.4"
  }
 },
 "nbformat": 4,
 "nbformat_minor": 4
}
